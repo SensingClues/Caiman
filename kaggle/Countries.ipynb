{
 "cells": [
  {
   "cell_type": "code",
   "execution_count": 1,
   "id": "productive-crawford",
   "metadata": {},
   "outputs": [],
   "source": [
    "import json\n",
    "import os\n",
    "import pickle\n",
    "import cv2\n",
    "import numpy as np \n",
    "import pandas as pd\n",
    "from PIL import Image, ImageFile, ImageFont, ImageDraw\n",
    "%matplotlib inline\n",
    "%load_ext autoreload\n",
    "%autoreload 2"
   ]
  },
  {
   "cell_type": "code",
   "execution_count": 2,
   "id": "designed-martin",
   "metadata": {},
   "outputs": [],
   "source": [
    "import reverse_geocoder"
   ]
  },
  {
   "cell_type": "code",
   "execution_count": 3,
   "id": "related-completion",
   "metadata": {},
   "outputs": [],
   "source": [
    "df = pd.read_json(\"metadata/gps_locations.json\")"
   ]
  },
  {
   "cell_type": "code",
   "execution_count": 5,
   "id": "lasting-stopping",
   "metadata": {},
   "outputs": [],
   "source": [
    "with open(\"metadata/gps_locations.json\") as f:\n",
    "    res = json.load(f)"
   ]
  },
  {
   "cell_type": "code",
   "execution_count": 23,
   "id": "choice-logan",
   "metadata": {},
   "outputs": [
    {
     "name": "stdout",
     "output_type": "stream",
     "text": [
      "{'LA', 'BZ', 'GT', 'KE', 'RW', 'BR', 'EC'}\n"
     ]
    }
   ],
   "source": [
    "ccs = set()\n",
    "for r in res:\n",
    "    coordinates = res[r][\"latitude\"], res[r][\"longitude\"]\n",
    "    ccs.add(reverse_geocoder.search(coordinates)[0]['cc'])\n",
    "    \n",
    "print(ccs)"
   ]
  }
 ],
 "metadata": {
  "kernelspec": {
   "display_name": "Python 3",
   "language": "python",
   "name": "python3"
  },
  "language_info": {
   "codemirror_mode": {
    "name": "ipython",
    "version": 3
   },
   "file_extension": ".py",
   "mimetype": "text/x-python",
   "name": "python",
   "nbconvert_exporter": "python",
   "pygments_lexer": "ipython3",
   "version": "3.6.13"
  }
 },
 "nbformat": 4,
 "nbformat_minor": 5
}
