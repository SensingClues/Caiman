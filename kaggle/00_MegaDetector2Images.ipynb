{
 "cells": [
  {
   "cell_type": "code",
   "execution_count": 40,
   "metadata": {},
   "outputs": [
    {
     "name": "stdout",
     "output_type": "stream",
     "text": [
      "The autoreload extension is already loaded. To reload it, use:\n",
      "  %reload_ext autoreload\n"
     ]
    }
   ],
   "source": [
    "import json\n",
    "import os\n",
    "import pickle\n",
    "import cv2\n",
    "import numpy as np \n",
    "import pandas as pd\n",
    "from PIL import Image, ImageFile, ImageFont, ImageDraw\n",
    "from clahe import CLAHE, convert_dir_to_clahe\n",
    "import tqdm\n",
    "%matplotlib inline\n",
    "%load_ext autoreload\n",
    "%autoreload 2"
   ]
  },
  {
   "cell_type": "code",
   "execution_count": 41,
   "metadata": {},
   "outputs": [],
   "source": [
    "from loaddata import loaddets_md3, loaddata, load_merged, loaddets_md4, load_testinfo"
   ]
  },
  {
   "cell_type": "code",
   "execution_count": 42,
   "metadata": {},
   "outputs": [],
   "source": [
    "from exporter import Exporter"
   ]
  },
  {
   "cell_type": "code",
   "execution_count": 43,
   "metadata": {},
   "outputs": [],
   "source": [
    "exporter = Exporter()"
   ]
  },
  {
   "cell_type": "code",
   "execution_count": 44,
   "metadata": {},
   "outputs": [],
   "source": [
    "ANNOTATIONS_PATH = \"metadata/\"\n",
    "\n",
    "SIZES = [(256,256), (380,380)]\n",
    "\n",
    "TRAIN_PATHS = [\"train/\", \"train_clahe/\"]\n",
    "TEST_PATHS = [\"test/\", \"test_clahe/\"]\n",
    "\n",
    "LOWER_THRESHOLD = 0.5"
   ]
  },
  {
   "cell_type": "code",
   "execution_count": 45,
   "metadata": {},
   "outputs": [],
   "source": [
    "df_dets_md3 = loaddets_md3()"
   ]
  },
  {
   "cell_type": "code",
   "execution_count": 46,
   "metadata": {},
   "outputs": [],
   "source": [
    "df_anno, df_categories, df_images = loaddata()"
   ]
  },
  {
   "cell_type": "code",
   "execution_count": 47,
   "metadata": {},
   "outputs": [],
   "source": [
    "testinfo = load_testinfo()"
   ]
  },
  {
   "cell_type": "code",
   "execution_count": 48,
   "metadata": {},
   "outputs": [
    {
     "name": "stdout",
     "output_type": "stream",
     "text": [
      "<class 'pandas.core.frame.DataFrame'>\n",
      "RangeIndex: 60214 entries, 0 to 60213\n",
      "Data columns (total 2 columns):\n",
      " #   Column    Non-Null Count  Dtype \n",
      "---  ------    --------------  ----- \n",
      " 0   image_id  60214 non-null  object\n",
      " 1   seq_id    60214 non-null  object\n",
      "dtypes: object(2)\n",
      "memory usage: 941.0+ KB\n"
     ]
    }
   ],
   "source": [
    "testinfo.info()"
   ]
  },
  {
   "cell_type": "code",
   "execution_count": 49,
   "metadata": {},
   "outputs": [],
   "source": [
    "df_dets_train_md4, df_dets_test_md4 = loaddets_md4()"
   ]
  },
  {
   "cell_type": "code",
   "execution_count": 50,
   "metadata": {},
   "outputs": [
    {
     "data": {
      "text/plain": [
       "Index(['detections', 'image_id', 'max_detection_conf', 'nr_boxes'], dtype='object')"
      ]
     },
     "execution_count": 50,
     "metadata": {},
     "output_type": "execute_result"
    }
   ],
   "source": [
    "df_dets_md3.columns"
   ]
  },
  {
   "cell_type": "code",
   "execution_count": 51,
   "metadata": {},
   "outputs": [
    {
     "data": {
      "text/html": [
       "<div>\n",
       "<style scoped>\n",
       "    .dataframe tbody tr th:only-of-type {\n",
       "        vertical-align: middle;\n",
       "    }\n",
       "\n",
       "    .dataframe tbody tr th {\n",
       "        vertical-align: top;\n",
       "    }\n",
       "\n",
       "    .dataframe thead th {\n",
       "        text-align: right;\n",
       "    }\n",
       "</style>\n",
       "<table border=\"1\" class=\"dataframe\">\n",
       "  <thead>\n",
       "    <tr style=\"text-align: right;\">\n",
       "      <th></th>\n",
       "      <th>file</th>\n",
       "      <th>max_detection_conf</th>\n",
       "      <th>detections</th>\n",
       "      <th>image_id</th>\n",
       "      <th>nr_boxes</th>\n",
       "    </tr>\n",
       "  </thead>\n",
       "  <tbody>\n",
       "    <tr>\n",
       "      <th>0</th>\n",
       "      <td>/home/beuving/kaggle/train/8b1f7ab6-21bc-11ea-...</td>\n",
       "      <td>0.000</td>\n",
       "      <td>[]</td>\n",
       "      <td>8b1f7ab6-21bc-11ea-a13a-137349068a90</td>\n",
       "      <td>0</td>\n",
       "    </tr>\n",
       "    <tr>\n",
       "      <th>1</th>\n",
       "      <td>/home/beuving/kaggle/train/957ebe40-21bc-11ea-...</td>\n",
       "      <td>0.998</td>\n",
       "      <td>[{'category': '1', 'conf': 0.998, 'bbox': [0.2...</td>\n",
       "      <td>957ebe40-21bc-11ea-a13a-137349068a90</td>\n",
       "      <td>8</td>\n",
       "    </tr>\n",
       "    <tr>\n",
       "      <th>2</th>\n",
       "      <td>/home/beuving/kaggle/train/97fe2070-21bc-11ea-...</td>\n",
       "      <td>0.999</td>\n",
       "      <td>[{'category': '1', 'conf': 0.999, 'bbox': [0.4...</td>\n",
       "      <td>97fe2070-21bc-11ea-a13a-137349068a90</td>\n",
       "      <td>4</td>\n",
       "    </tr>\n",
       "    <tr>\n",
       "      <th>3</th>\n",
       "      <td>/home/beuving/kaggle/train/8fe37110-21bc-11ea-...</td>\n",
       "      <td>0.000</td>\n",
       "      <td>[]</td>\n",
       "      <td>8fe37110-21bc-11ea-a13a-137349068a90</td>\n",
       "      <td>0</td>\n",
       "    </tr>\n",
       "    <tr>\n",
       "      <th>4</th>\n",
       "      <td>/home/beuving/kaggle/train/90a1b8d2-21bc-11ea-...</td>\n",
       "      <td>0.000</td>\n",
       "      <td>[]</td>\n",
       "      <td>90a1b8d2-21bc-11ea-a13a-137349068a90</td>\n",
       "      <td>0</td>\n",
       "    </tr>\n",
       "  </tbody>\n",
       "</table>\n",
       "</div>"
      ],
      "text/plain": [
       "                                                file  max_detection_conf  \\\n",
       "0  /home/beuving/kaggle/train/8b1f7ab6-21bc-11ea-...               0.000   \n",
       "1  /home/beuving/kaggle/train/957ebe40-21bc-11ea-...               0.998   \n",
       "2  /home/beuving/kaggle/train/97fe2070-21bc-11ea-...               0.999   \n",
       "3  /home/beuving/kaggle/train/8fe37110-21bc-11ea-...               0.000   \n",
       "4  /home/beuving/kaggle/train/90a1b8d2-21bc-11ea-...               0.000   \n",
       "\n",
       "                                          detections  \\\n",
       "0                                                 []   \n",
       "1  [{'category': '1', 'conf': 0.998, 'bbox': [0.2...   \n",
       "2  [{'category': '1', 'conf': 0.999, 'bbox': [0.4...   \n",
       "3                                                 []   \n",
       "4                                                 []   \n",
       "\n",
       "                               image_id  nr_boxes  \n",
       "0  8b1f7ab6-21bc-11ea-a13a-137349068a90         0  \n",
       "1  957ebe40-21bc-11ea-a13a-137349068a90         8  \n",
       "2  97fe2070-21bc-11ea-a13a-137349068a90         4  \n",
       "3  8fe37110-21bc-11ea-a13a-137349068a90         0  \n",
       "4  90a1b8d2-21bc-11ea-a13a-137349068a90         0  "
      ]
     },
     "execution_count": 51,
     "metadata": {},
     "output_type": "execute_result"
    }
   ],
   "source": [
    "df_dets_train_md4.head()"
   ]
  },
  {
   "cell_type": "code",
   "execution_count": 52,
   "metadata": {},
   "outputs": [],
   "source": [
    "det_md3_images = list(df_dets_md3[\"image_id\"])\n",
    "train_images_md3 = list(df_images[\"image_id\"])\n",
    "test_images_md3 = list(set(det_md3_images) - set(train_images_md3))"
   ]
  },
  {
   "cell_type": "code",
   "execution_count": 53,
   "metadata": {},
   "outputs": [],
   "source": [
    "train_images_md4 =  list(df_dets_train_md4[\"image_id\"])\n",
    "test_images_md4 = list(df_dets_test_md4[\"image_id\"])"
   ]
  },
  {
   "cell_type": "code",
   "execution_count": 54,
   "metadata": {},
   "outputs": [],
   "source": [
    "df_dets_train_md3 = df_dets_md3[df_dets_md3[\"image_id\"].isin(train_images_md3)]\n",
    "df_dets_test_md3 = df_dets_md3[df_dets_md3[\"image_id\"].isin(test_images_md3)]"
   ]
  },
  {
   "cell_type": "code",
   "execution_count": 55,
   "metadata": {},
   "outputs": [
    {
     "data": {
      "text/plain": [
       "247460"
      ]
     },
     "execution_count": 55,
     "metadata": {},
     "output_type": "execute_result"
    }
   ],
   "source": [
    "df_dets_train_md3[\"nr_boxes\"].sum()"
   ]
  },
  {
   "cell_type": "code",
   "execution_count": 56,
   "metadata": {},
   "outputs": [
    {
     "data": {
      "text/plain": [
       "48525"
      ]
     },
     "execution_count": 56,
     "metadata": {},
     "output_type": "execute_result"
    }
   ],
   "source": [
    "df_dets_test_md3[\"nr_boxes\"].sum()"
   ]
  },
  {
   "cell_type": "code",
   "execution_count": 57,
   "metadata": {},
   "outputs": [
    {
     "data": {
      "text/plain": [
       "303171"
      ]
     },
     "execution_count": 57,
     "metadata": {},
     "output_type": "execute_result"
    }
   ],
   "source": [
    "df_dets_train_md4[\"nr_boxes\"].sum()"
   ]
  },
  {
   "cell_type": "code",
   "execution_count": 58,
   "metadata": {},
   "outputs": [
    {
     "data": {
      "text/plain": [
       "54329"
      ]
     },
     "execution_count": 58,
     "metadata": {},
     "output_type": "execute_result"
    }
   ],
   "source": [
    "df_dets_test_md4[\"nr_boxes\"].sum()"
   ]
  },
  {
   "cell_type": "code",
   "execution_count": 59,
   "metadata": {},
   "outputs": [
    {
     "data": {
      "text/html": [
       "<div>\n",
       "<style scoped>\n",
       "    .dataframe tbody tr th:only-of-type {\n",
       "        vertical-align: middle;\n",
       "    }\n",
       "\n",
       "    .dataframe tbody tr th {\n",
       "        vertical-align: top;\n",
       "    }\n",
       "\n",
       "    .dataframe thead th {\n",
       "        text-align: right;\n",
       "    }\n",
       "</style>\n",
       "<table border=\"1\" class=\"dataframe\">\n",
       "  <thead>\n",
       "    <tr style=\"text-align: right;\">\n",
       "      <th></th>\n",
       "      <th>detections</th>\n",
       "      <th>image_id</th>\n",
       "      <th>max_detection_conf</th>\n",
       "      <th>nr_boxes</th>\n",
       "    </tr>\n",
       "  </thead>\n",
       "  <tbody>\n",
       "    <tr>\n",
       "      <th>0</th>\n",
       "      <td>[{'category': '1', 'bbox': [0.6529, 0.5425, 0....</td>\n",
       "      <td>905a3c8c-21bc-11ea-a13a-137349068a90</td>\n",
       "      <td>0.999</td>\n",
       "      <td>1</td>\n",
       "    </tr>\n",
       "    <tr>\n",
       "      <th>1</th>\n",
       "      <td>[{'category': '1', 'bbox': [0.0147, 0.0, 0.985...</td>\n",
       "      <td>905a3fc0-21bc-11ea-a13a-137349068a90</td>\n",
       "      <td>0.696</td>\n",
       "      <td>1</td>\n",
       "    </tr>\n",
       "    <tr>\n",
       "      <th>2</th>\n",
       "      <td>[]</td>\n",
       "      <td>905a420e-21bc-11ea-a13a-137349068a90</td>\n",
       "      <td>0.000</td>\n",
       "      <td>0</td>\n",
       "    </tr>\n",
       "    <tr>\n",
       "      <th>3</th>\n",
       "      <td>[{'category': '1', 'bbox': [0.0, 0.4669, 0.185...</td>\n",
       "      <td>905a4416-21bc-11ea-a13a-137349068a90</td>\n",
       "      <td>1.000</td>\n",
       "      <td>7</td>\n",
       "    </tr>\n",
       "    <tr>\n",
       "      <th>4</th>\n",
       "      <td>[{'category': '1', 'bbox': [0.0, 0.0494, 0.528...</td>\n",
       "      <td>905a579e-21bc-11ea-a13a-137349068a90</td>\n",
       "      <td>0.999</td>\n",
       "      <td>1</td>\n",
       "    </tr>\n",
       "    <tr>\n",
       "      <th>...</th>\n",
       "      <td>...</td>\n",
       "      <td>...</td>\n",
       "      <td>...</td>\n",
       "      <td>...</td>\n",
       "    </tr>\n",
       "    <tr>\n",
       "      <th>261568</th>\n",
       "      <td>[{'category': '1', 'bbox': [0.2771, 0.1184, 0....</td>\n",
       "      <td>8ebf1582-21bc-11ea-a13a-137349068a90</td>\n",
       "      <td>0.669</td>\n",
       "      <td>1</td>\n",
       "    </tr>\n",
       "    <tr>\n",
       "      <th>261569</th>\n",
       "      <td>[{'category': '1', 'bbox': [0.656, 0.4392, 0.2...</td>\n",
       "      <td>8ebf18e8-21bc-11ea-a13a-137349068a90</td>\n",
       "      <td>1.000</td>\n",
       "      <td>1</td>\n",
       "    </tr>\n",
       "    <tr>\n",
       "      <th>261570</th>\n",
       "      <td>[{'category': '1', 'bbox': [0.3886, 0.7674, 0....</td>\n",
       "      <td>8ebf1f50-21bc-11ea-a13a-137349068a90</td>\n",
       "      <td>1.000</td>\n",
       "      <td>1</td>\n",
       "    </tr>\n",
       "    <tr>\n",
       "      <th>261571</th>\n",
       "      <td>[{'category': '1', 'bbox': [0.3287, 0.1321, 0....</td>\n",
       "      <td>8ebf2284-21bc-11ea-a13a-137349068a90</td>\n",
       "      <td>1.000</td>\n",
       "      <td>2</td>\n",
       "    </tr>\n",
       "    <tr>\n",
       "      <th>261572</th>\n",
       "      <td>[]</td>\n",
       "      <td>8ebf2cc0-21bc-11ea-a13a-137349068a90</td>\n",
       "      <td>0.000</td>\n",
       "      <td>0</td>\n",
       "    </tr>\n",
       "  </tbody>\n",
       "</table>\n",
       "<p>203314 rows × 4 columns</p>\n",
       "</div>"
      ],
      "text/plain": [
       "                                               detections  \\\n",
       "0       [{'category': '1', 'bbox': [0.6529, 0.5425, 0....   \n",
       "1       [{'category': '1', 'bbox': [0.0147, 0.0, 0.985...   \n",
       "2                                                      []   \n",
       "3       [{'category': '1', 'bbox': [0.0, 0.4669, 0.185...   \n",
       "4       [{'category': '1', 'bbox': [0.0, 0.0494, 0.528...   \n",
       "...                                                   ...   \n",
       "261568  [{'category': '1', 'bbox': [0.2771, 0.1184, 0....   \n",
       "261569  [{'category': '1', 'bbox': [0.656, 0.4392, 0.2...   \n",
       "261570  [{'category': '1', 'bbox': [0.3886, 0.7674, 0....   \n",
       "261571  [{'category': '1', 'bbox': [0.3287, 0.1321, 0....   \n",
       "261572                                                 []   \n",
       "\n",
       "                                    image_id  max_detection_conf  nr_boxes  \n",
       "0       905a3c8c-21bc-11ea-a13a-137349068a90               0.999         1  \n",
       "1       905a3fc0-21bc-11ea-a13a-137349068a90               0.696         1  \n",
       "2       905a420e-21bc-11ea-a13a-137349068a90               0.000         0  \n",
       "3       905a4416-21bc-11ea-a13a-137349068a90               1.000         7  \n",
       "4       905a579e-21bc-11ea-a13a-137349068a90               0.999         1  \n",
       "...                                      ...                 ...       ...  \n",
       "261568  8ebf1582-21bc-11ea-a13a-137349068a90               0.669         1  \n",
       "261569  8ebf18e8-21bc-11ea-a13a-137349068a90               1.000         1  \n",
       "261570  8ebf1f50-21bc-11ea-a13a-137349068a90               1.000         1  \n",
       "261571  8ebf2284-21bc-11ea-a13a-137349068a90               1.000         2  \n",
       "261572  8ebf2cc0-21bc-11ea-a13a-137349068a90               0.000         0  \n",
       "\n",
       "[203314 rows x 4 columns]"
      ]
     },
     "execution_count": 59,
     "metadata": {},
     "output_type": "execute_result"
    }
   ],
   "source": [
    "df_dets_train_md3"
   ]
  },
  {
   "cell_type": "code",
   "execution_count": 60,
   "metadata": {},
   "outputs": [],
   "source": [
    "# we add the path to the dataframe (copied from 00)\n",
    "def add_path(df, path):\n",
    "    out = df.copy()\n",
    "    out[\"filename\"] = df[\"image_id\"].apply(lambda x: os.path.join(path, x + \".jpg\"))\n",
    "    out[\"path\"] = path\n",
    "    return out\n",
    "\n",
    "df_train_md3_clahe = add_path(df_dets_train_md3, TRAIN_PATHS[1])\n",
    "df_test_md3_clahe = add_path(df_dets_test_md3, TEST_PATHS[1])\n",
    "df_train_md4_clahe = add_path(df_dets_train_md4, TRAIN_PATHS[1])\n",
    "df_test_md4_clahe = add_path(df_dets_test_md4, TEST_PATHS[1])"
   ]
  },
  {
   "cell_type": "code",
   "execution_count": 61,
   "metadata": {},
   "outputs": [
    {
     "name": "stdout",
     "output_type": "stream",
     "text": [
      "<class 'pandas.core.frame.DataFrame'>\n",
      "Int64Index: 203314 entries, 0 to 261572\n",
      "Data columns (total 6 columns):\n",
      " #   Column              Non-Null Count   Dtype  \n",
      "---  ------              --------------   -----  \n",
      " 0   detections          203314 non-null  object \n",
      " 1   image_id            203314 non-null  object \n",
      " 2   max_detection_conf  203314 non-null  float64\n",
      " 3   nr_boxes            203314 non-null  int64  \n",
      " 4   filename            203314 non-null  object \n",
      " 5   path                203314 non-null  object \n",
      "dtypes: float64(1), int64(1), object(4)\n",
      "memory usage: 10.9+ MB\n",
      "None\n",
      "<class 'pandas.core.frame.DataFrame'>\n",
      "Int64Index: 203314 entries, 0 to 261572\n",
      "Data columns (total 6 columns):\n",
      " #   Column              Non-Null Count   Dtype  \n",
      "---  ------              --------------   -----  \n",
      " 0   detections          203314 non-null  object \n",
      " 1   image_id            203314 non-null  object \n",
      " 2   max_detection_conf  203314 non-null  float64\n",
      " 3   nr_boxes            203314 non-null  int64  \n",
      " 4   filename            203314 non-null  object \n",
      " 5   path                203314 non-null  object \n",
      "dtypes: float64(1), int64(1), object(4)\n",
      "memory usage: 10.9+ MB\n",
      "None\n",
      "<class 'pandas.core.frame.DataFrame'>\n",
      "Int64Index: 203314 entries, 0 to 261572\n",
      "Data columns (total 6 columns):\n",
      " #   Column              Non-Null Count   Dtype  \n",
      "---  ------              --------------   -----  \n",
      " 0   detections          203314 non-null  object \n",
      " 1   image_id            203314 non-null  object \n",
      " 2   max_detection_conf  203314 non-null  float64\n",
      " 3   nr_boxes            203314 non-null  int64  \n",
      " 4   filename            203314 non-null  object \n",
      " 5   path                203314 non-null  object \n",
      "dtypes: float64(1), int64(1), object(4)\n",
      "memory usage: 10.9+ MB\n",
      "None\n",
      "<class 'pandas.core.frame.DataFrame'>\n",
      "Int64Index: 203314 entries, 0 to 261572\n",
      "Data columns (total 6 columns):\n",
      " #   Column              Non-Null Count   Dtype  \n",
      "---  ------              --------------   -----  \n",
      " 0   detections          203314 non-null  object \n",
      " 1   image_id            203314 non-null  object \n",
      " 2   max_detection_conf  203314 non-null  float64\n",
      " 3   nr_boxes            203314 non-null  int64  \n",
      " 4   filename            203314 non-null  object \n",
      " 5   path                203314 non-null  object \n",
      "dtypes: float64(1), int64(1), object(4)\n",
      "memory usage: 10.9+ MB\n",
      "None\n"
     ]
    },
    {
     "data": {
      "text/html": [
       "<div>\n",
       "<style scoped>\n",
       "    .dataframe tbody tr th:only-of-type {\n",
       "        vertical-align: middle;\n",
       "    }\n",
       "\n",
       "    .dataframe tbody tr th {\n",
       "        vertical-align: top;\n",
       "    }\n",
       "\n",
       "    .dataframe thead th {\n",
       "        text-align: right;\n",
       "    }\n",
       "</style>\n",
       "<table border=\"1\" class=\"dataframe\">\n",
       "  <thead>\n",
       "    <tr style=\"text-align: right;\">\n",
       "      <th></th>\n",
       "      <th>detections</th>\n",
       "      <th>image_id</th>\n",
       "      <th>max_detection_conf</th>\n",
       "      <th>nr_boxes</th>\n",
       "      <th>filename</th>\n",
       "      <th>path</th>\n",
       "    </tr>\n",
       "  </thead>\n",
       "  <tbody>\n",
       "    <tr>\n",
       "      <th>0</th>\n",
       "      <td>[{'category': '1', 'bbox': [0.6529, 0.5425, 0....</td>\n",
       "      <td>905a3c8c-21bc-11ea-a13a-137349068a90</td>\n",
       "      <td>0.999</td>\n",
       "      <td>1</td>\n",
       "      <td>train_clahe/905a3c8c-21bc-11ea-a13a-137349068a...</td>\n",
       "      <td>train_clahe/</td>\n",
       "    </tr>\n",
       "    <tr>\n",
       "      <th>1</th>\n",
       "      <td>[{'category': '1', 'bbox': [0.0147, 0.0, 0.985...</td>\n",
       "      <td>905a3fc0-21bc-11ea-a13a-137349068a90</td>\n",
       "      <td>0.696</td>\n",
       "      <td>1</td>\n",
       "      <td>train_clahe/905a3fc0-21bc-11ea-a13a-137349068a...</td>\n",
       "      <td>train_clahe/</td>\n",
       "    </tr>\n",
       "    <tr>\n",
       "      <th>2</th>\n",
       "      <td>[]</td>\n",
       "      <td>905a420e-21bc-11ea-a13a-137349068a90</td>\n",
       "      <td>0.000</td>\n",
       "      <td>0</td>\n",
       "      <td>train_clahe/905a420e-21bc-11ea-a13a-137349068a...</td>\n",
       "      <td>train_clahe/</td>\n",
       "    </tr>\n",
       "    <tr>\n",
       "      <th>3</th>\n",
       "      <td>[{'category': '1', 'bbox': [0.0, 0.4669, 0.185...</td>\n",
       "      <td>905a4416-21bc-11ea-a13a-137349068a90</td>\n",
       "      <td>1.000</td>\n",
       "      <td>7</td>\n",
       "      <td>train_clahe/905a4416-21bc-11ea-a13a-137349068a...</td>\n",
       "      <td>train_clahe/</td>\n",
       "    </tr>\n",
       "    <tr>\n",
       "      <th>4</th>\n",
       "      <td>[{'category': '1', 'bbox': [0.0, 0.0494, 0.528...</td>\n",
       "      <td>905a579e-21bc-11ea-a13a-137349068a90</td>\n",
       "      <td>0.999</td>\n",
       "      <td>1</td>\n",
       "      <td>train_clahe/905a579e-21bc-11ea-a13a-137349068a...</td>\n",
       "      <td>train_clahe/</td>\n",
       "    </tr>\n",
       "  </tbody>\n",
       "</table>\n",
       "</div>"
      ],
      "text/plain": [
       "                                          detections  \\\n",
       "0  [{'category': '1', 'bbox': [0.6529, 0.5425, 0....   \n",
       "1  [{'category': '1', 'bbox': [0.0147, 0.0, 0.985...   \n",
       "2                                                 []   \n",
       "3  [{'category': '1', 'bbox': [0.0, 0.4669, 0.185...   \n",
       "4  [{'category': '1', 'bbox': [0.0, 0.0494, 0.528...   \n",
       "\n",
       "                               image_id  max_detection_conf  nr_boxes  \\\n",
       "0  905a3c8c-21bc-11ea-a13a-137349068a90               0.999         1   \n",
       "1  905a3fc0-21bc-11ea-a13a-137349068a90               0.696         1   \n",
       "2  905a420e-21bc-11ea-a13a-137349068a90               0.000         0   \n",
       "3  905a4416-21bc-11ea-a13a-137349068a90               1.000         7   \n",
       "4  905a579e-21bc-11ea-a13a-137349068a90               0.999         1   \n",
       "\n",
       "                                            filename          path  \n",
       "0  train_clahe/905a3c8c-21bc-11ea-a13a-137349068a...  train_clahe/  \n",
       "1  train_clahe/905a3fc0-21bc-11ea-a13a-137349068a...  train_clahe/  \n",
       "2  train_clahe/905a420e-21bc-11ea-a13a-137349068a...  train_clahe/  \n",
       "3  train_clahe/905a4416-21bc-11ea-a13a-137349068a...  train_clahe/  \n",
       "4  train_clahe/905a579e-21bc-11ea-a13a-137349068a...  train_clahe/  "
      ]
     },
     "execution_count": 61,
     "metadata": {},
     "output_type": "execute_result"
    }
   ],
   "source": [
    "print(df_train_md3_clahe.info())\n",
    "print(df_train_md3_clahe.info())\n",
    "print(df_train_md3_clahe.info())\n",
    "print(df_train_md3_clahe.info())\n",
    "df_train_md3_clahe.head()"
   ]
  },
  {
   "cell_type": "code",
   "execution_count": 67,
   "metadata": {},
   "outputs": [],
   "source": [
    "df_train_md3_clahe = df_train_md3_clahe.merge(df_anno, on=\"image_id\")"
   ]
  },
  {
   "cell_type": "code",
   "execution_count": 69,
   "metadata": {},
   "outputs": [],
   "source": [
    "df_test_md3_clahe[\"category_id\"] = 0"
   ]
  },
  {
   "cell_type": "code",
   "execution_count": 71,
   "metadata": {},
   "outputs": [],
   "source": [
    "# md3 run\n",
    "#boxes_train_md4 = export_detections(df_dets_train_md4, SIZES[1])\n",
    "box = exporter.export_detections(df_train_md3_clahe, \"md3\", SIZES[0])\n",
    "exporter.to_csv()\n",
    "box = exporter.export_detections(df_test_md3_clahe, \"md3\", SIZES[0])\n",
    "exporter.to_csv()"
   ]
  },
  {
   "cell_type": "code",
   "execution_count": 114,
   "metadata": {},
   "outputs": [
    {
     "data": {
      "text/html": [
       "<div>\n",
       "<style scoped>\n",
       "    .dataframe tbody tr th:only-of-type {\n",
       "        vertical-align: middle;\n",
       "    }\n",
       "\n",
       "    .dataframe tbody tr th {\n",
       "        vertical-align: top;\n",
       "    }\n",
       "\n",
       "    .dataframe thead th {\n",
       "        text-align: right;\n",
       "    }\n",
       "</style>\n",
       "<table border=\"1\" class=\"dataframe\">\n",
       "  <thead>\n",
       "    <tr style=\"text-align: right;\">\n",
       "      <th></th>\n",
       "      <th>path</th>\n",
       "      <th>image_id</th>\n",
       "      <th>idx</th>\n",
       "      <th>filename</th>\n",
       "    </tr>\n",
       "  </thead>\n",
       "  <tbody>\n",
       "    <tr>\n",
       "      <th>0</th>\n",
       "      <td>_train_bbox256x256/</td>\n",
       "      <td>957ebe40-21bc-11ea-a13a-137349068a90</td>\n",
       "      <td>1</td>\n",
       "      <td>_train_bbox256x256/957ebe40-21bc-11ea-a13a-137...</td>\n",
       "    </tr>\n",
       "    <tr>\n",
       "      <th>1</th>\n",
       "      <td>_train_bbox256x256/</td>\n",
       "      <td>957ebe40-21bc-11ea-a13a-137349068a90</td>\n",
       "      <td>2</td>\n",
       "      <td>_train_bbox256x256/957ebe40-21bc-11ea-a13a-137...</td>\n",
       "    </tr>\n",
       "    <tr>\n",
       "      <th>2</th>\n",
       "      <td>_train_bbox256x256/</td>\n",
       "      <td>957ebe40-21bc-11ea-a13a-137349068a90</td>\n",
       "      <td>3</td>\n",
       "      <td>_train_bbox256x256/957ebe40-21bc-11ea-a13a-137...</td>\n",
       "    </tr>\n",
       "    <tr>\n",
       "      <th>3</th>\n",
       "      <td>_train_bbox256x256/</td>\n",
       "      <td>957ebe40-21bc-11ea-a13a-137349068a90</td>\n",
       "      <td>4</td>\n",
       "      <td>_train_bbox256x256/957ebe40-21bc-11ea-a13a-137...</td>\n",
       "    </tr>\n",
       "    <tr>\n",
       "      <th>4</th>\n",
       "      <td>_train_bbox256x256/</td>\n",
       "      <td>957ebe40-21bc-11ea-a13a-137349068a90</td>\n",
       "      <td>5</td>\n",
       "      <td>_train_bbox256x256/957ebe40-21bc-11ea-a13a-137...</td>\n",
       "    </tr>\n",
       "  </tbody>\n",
       "</table>\n",
       "</div>"
      ],
      "text/plain": [
       "                  path                              image_id  idx  \\\n",
       "0  _train_bbox256x256/  957ebe40-21bc-11ea-a13a-137349068a90    1   \n",
       "1  _train_bbox256x256/  957ebe40-21bc-11ea-a13a-137349068a90    2   \n",
       "2  _train_bbox256x256/  957ebe40-21bc-11ea-a13a-137349068a90    3   \n",
       "3  _train_bbox256x256/  957ebe40-21bc-11ea-a13a-137349068a90    4   \n",
       "4  _train_bbox256x256/  957ebe40-21bc-11ea-a13a-137349068a90    5   \n",
       "\n",
       "                                            filename  \n",
       "0  _train_bbox256x256/957ebe40-21bc-11ea-a13a-137...  \n",
       "1  _train_bbox256x256/957ebe40-21bc-11ea-a13a-137...  \n",
       "2  _train_bbox256x256/957ebe40-21bc-11ea-a13a-137...  \n",
       "3  _train_bbox256x256/957ebe40-21bc-11ea-a13a-137...  \n",
       "4  _train_bbox256x256/957ebe40-21bc-11ea-a13a-137...  "
      ]
     },
     "execution_count": 114,
     "metadata": {},
     "output_type": "execute_result"
    }
   ],
   "source": [
    "boxes_train_md4.head()"
   ]
  },
  {
   "cell_type": "markdown",
   "metadata": {},
   "source": [
    "We want several datasets prepared, two cropped bounding boxes at 256 and one at 380\n",
    "Also add the inaturalist data"
   ]
  },
  {
   "cell_type": "markdown",
   "metadata": {},
   "source": [
    "# Main procressing"
   ]
  },
  {
   "cell_type": "code",
   "execution_count": 83,
   "metadata": {},
   "outputs": [],
   "source": [
    "def convert_images(annotation):\n",
    "\n",
    "    img_id = annotation[\"image_id\"]\n",
    "    is_train = True \n",
    "    \n",
    "    try:\n",
    "        detections = annotation[\"detections\"]\n",
    "    except:\n",
    "        print(f\"Passed {img_id}. There are no detection data.\")\n",
    "        return\n",
    "    \n",
    "    path_for_train = TRAIN_PATH + img_id + \".jpg\"\n",
    "    path_for_test = TEST_PATH + img_id + \".jpg\"\n",
    "    \n",
    "    if os.path.exists(path_for_train):\n",
    "        file_path = path_for_train\n",
    "        is_train = True\n",
    "        return\n",
    "    elif os.path.exists(path_for_test):\n",
    "        file_path = path_for_test\n",
    "        is_train = False\n",
    "    else:\n",
    "        print(f\"Passed {img_id}. There are no data.\")\n",
    "        return\n",
    "    \n",
    "    \n",
    "    try:      \n",
    "        img = Image.open(file_path)\n",
    "    except:\n",
    "        print(f\"Passed {img_id}. Fail to open image.\")\n",
    "        print(f\"pass {file_path}.\")\n",
    "        return\n",
    "    \n",
    "    for i, detection in enumerate(detections, 1):\n",
    "        \n",
    "        if detection[\"conf\"] < threshold:\n",
    "            continue\n",
    "\n",
    "        if detection[\"category\"] != \"1\":\n",
    "            continue\n",
    "            \n",
    "        if len(detection) == 0:\n",
    "            img = img.resize(size)\n",
    "            save_image(img, img_id, 0, is_train)\n",
    "            x_tot, x2_tot = calc_mean_and_var(img)\n",
    "            x_tot_list.append(x_tot)\n",
    "            x2_tot_list.append(x2_tot)\n",
    "            \n",
    "        else:\n",
    "            crop_area = get_crop_area(detection[\"bbox\"], img.size)\n",
    "            img_croped = img.crop(crop_area).resize(size)\n",
    "            save_image(img_croped, img_id, i, is_train)\n",
    "        \n",
    "            x_tot, x2_tot = calc_x_and_x2_tot(img_croped)\n",
    "            x_tot_list.append(x_tot)\n",
    "            x2_tot_list.append(x2_tot)"
   ]
  },
  {
   "cell_type": "code",
   "execution_count": 84,
   "metadata": {},
   "outputs": [],
   "source": [
    "for i, annotation in tqdm.tqdm(df_dets.iterrows()):\n",
    "    convert_images(annotation)"
   ]
  },
  {
   "cell_type": "code",
   "execution_count": 96,
   "metadata": {},
   "outputs": [
    {
     "name": "stdout",
     "output_type": "stream",
     "text": [
      "mean: [0.33705012 0.33705231 0.33704654] , std: [0.22359819 0.22362261 0.22359884]\n"
     ]
    }
   ],
   "source": [
    "#image stats\n",
    "img_avr =  np.array(x_tot_list).mean(0)\n",
    "img_std =  np.sqrt(np.array(x2_tot_list).mean(0) - img_avr**2)\n",
    "print('mean:',img_avr, ', std:', img_std)"
   ]
  },
  {
   "cell_type": "code",
   "execution_count": 97,
   "metadata": {},
   "outputs": [
    {
     "ename": "ValueError",
     "evalue": "arrays must all be same length",
     "output_type": "error",
     "traceback": [
      "\u001b[0;31m---------------------------------------------------------------------------\u001b[0m",
      "\u001b[0;31mValueError\u001b[0m                                Traceback (most recent call last)",
      "\u001b[0;32m<ipython-input-97-744cfec793e6>\u001b[0m in \u001b[0;36m<module>\u001b[0;34m\u001b[0m\n\u001b[1;32m      1\u001b[0m \u001b[0mcroped_train\u001b[0m \u001b[0;34m=\u001b[0m \u001b[0;34m{\u001b[0m\u001b[0;34m\"id\"\u001b[0m\u001b[0;34m:\u001b[0m \u001b[0mimg_ids_train\u001b[0m\u001b[0;34m,\u001b[0m \u001b[0;34m\"idx\"\u001b[0m\u001b[0;34m:\u001b[0m\u001b[0mimg_idx_train\u001b[0m\u001b[0;34m}\u001b[0m\u001b[0;34m\u001b[0m\u001b[0;34m\u001b[0m\u001b[0m\n\u001b[0;32m----> 2\u001b[0;31m \u001b[0mdf_croped_train\u001b[0m \u001b[0;34m=\u001b[0m \u001b[0mpd\u001b[0m\u001b[0;34m.\u001b[0m\u001b[0mDataFrame\u001b[0m\u001b[0;34m(\u001b[0m\u001b[0mcroped_train\u001b[0m\u001b[0;34m)\u001b[0m\u001b[0;34m\u001b[0m\u001b[0;34m\u001b[0m\u001b[0m\n\u001b[0m\u001b[1;32m      3\u001b[0m \u001b[0;31m#df_train_annotation = pd.DataFrame(train_annotations[\"annotations\"])\u001b[0m\u001b[0;34m\u001b[0m\u001b[0;34m\u001b[0m\u001b[0;34m\u001b[0m\u001b[0m\n",
      "\u001b[0;32m~/anaconda3/envs/kaggle/lib/python3.6/site-packages/pandas/core/frame.py\u001b[0m in \u001b[0;36m__init__\u001b[0;34m(self, data, index, columns, dtype, copy)\u001b[0m\n\u001b[1;32m    466\u001b[0m \u001b[0;34m\u001b[0m\u001b[0m\n\u001b[1;32m    467\u001b[0m         \u001b[0;32melif\u001b[0m \u001b[0misinstance\u001b[0m\u001b[0;34m(\u001b[0m\u001b[0mdata\u001b[0m\u001b[0;34m,\u001b[0m \u001b[0mdict\u001b[0m\u001b[0;34m)\u001b[0m\u001b[0;34m:\u001b[0m\u001b[0;34m\u001b[0m\u001b[0;34m\u001b[0m\u001b[0m\n\u001b[0;32m--> 468\u001b[0;31m             \u001b[0mmgr\u001b[0m \u001b[0;34m=\u001b[0m \u001b[0minit_dict\u001b[0m\u001b[0;34m(\u001b[0m\u001b[0mdata\u001b[0m\u001b[0;34m,\u001b[0m \u001b[0mindex\u001b[0m\u001b[0;34m,\u001b[0m \u001b[0mcolumns\u001b[0m\u001b[0;34m,\u001b[0m \u001b[0mdtype\u001b[0m\u001b[0;34m=\u001b[0m\u001b[0mdtype\u001b[0m\u001b[0;34m)\u001b[0m\u001b[0;34m\u001b[0m\u001b[0;34m\u001b[0m\u001b[0m\n\u001b[0m\u001b[1;32m    469\u001b[0m         \u001b[0;32melif\u001b[0m \u001b[0misinstance\u001b[0m\u001b[0;34m(\u001b[0m\u001b[0mdata\u001b[0m\u001b[0;34m,\u001b[0m \u001b[0mma\u001b[0m\u001b[0;34m.\u001b[0m\u001b[0mMaskedArray\u001b[0m\u001b[0;34m)\u001b[0m\u001b[0;34m:\u001b[0m\u001b[0;34m\u001b[0m\u001b[0;34m\u001b[0m\u001b[0m\n\u001b[1;32m    470\u001b[0m             \u001b[0;32mimport\u001b[0m \u001b[0mnumpy\u001b[0m\u001b[0;34m.\u001b[0m\u001b[0mma\u001b[0m\u001b[0;34m.\u001b[0m\u001b[0mmrecords\u001b[0m \u001b[0;32mas\u001b[0m \u001b[0mmrecords\u001b[0m\u001b[0;34m\u001b[0m\u001b[0;34m\u001b[0m\u001b[0m\n",
      "\u001b[0;32m~/anaconda3/envs/kaggle/lib/python3.6/site-packages/pandas/core/internals/construction.py\u001b[0m in \u001b[0;36minit_dict\u001b[0;34m(data, index, columns, dtype)\u001b[0m\n\u001b[1;32m    281\u001b[0m             \u001b[0marr\u001b[0m \u001b[0;32mif\u001b[0m \u001b[0;32mnot\u001b[0m \u001b[0mis_datetime64tz_dtype\u001b[0m\u001b[0;34m(\u001b[0m\u001b[0marr\u001b[0m\u001b[0;34m)\u001b[0m \u001b[0;32melse\u001b[0m \u001b[0marr\u001b[0m\u001b[0;34m.\u001b[0m\u001b[0mcopy\u001b[0m\u001b[0;34m(\u001b[0m\u001b[0;34m)\u001b[0m \u001b[0;32mfor\u001b[0m \u001b[0marr\u001b[0m \u001b[0;32min\u001b[0m \u001b[0marrays\u001b[0m\u001b[0;34m\u001b[0m\u001b[0;34m\u001b[0m\u001b[0m\n\u001b[1;32m    282\u001b[0m         ]\n\u001b[0;32m--> 283\u001b[0;31m     \u001b[0;32mreturn\u001b[0m \u001b[0marrays_to_mgr\u001b[0m\u001b[0;34m(\u001b[0m\u001b[0marrays\u001b[0m\u001b[0;34m,\u001b[0m \u001b[0mdata_names\u001b[0m\u001b[0;34m,\u001b[0m \u001b[0mindex\u001b[0m\u001b[0;34m,\u001b[0m \u001b[0mcolumns\u001b[0m\u001b[0;34m,\u001b[0m \u001b[0mdtype\u001b[0m\u001b[0;34m=\u001b[0m\u001b[0mdtype\u001b[0m\u001b[0;34m)\u001b[0m\u001b[0;34m\u001b[0m\u001b[0;34m\u001b[0m\u001b[0m\n\u001b[0m\u001b[1;32m    284\u001b[0m \u001b[0;34m\u001b[0m\u001b[0m\n\u001b[1;32m    285\u001b[0m \u001b[0;34m\u001b[0m\u001b[0m\n",
      "\u001b[0;32m~/anaconda3/envs/kaggle/lib/python3.6/site-packages/pandas/core/internals/construction.py\u001b[0m in \u001b[0;36marrays_to_mgr\u001b[0;34m(arrays, arr_names, index, columns, dtype, verify_integrity)\u001b[0m\n\u001b[1;32m     76\u001b[0m         \u001b[0;31m# figure out the index, if necessary\u001b[0m\u001b[0;34m\u001b[0m\u001b[0;34m\u001b[0m\u001b[0;34m\u001b[0m\u001b[0m\n\u001b[1;32m     77\u001b[0m         \u001b[0;32mif\u001b[0m \u001b[0mindex\u001b[0m \u001b[0;32mis\u001b[0m \u001b[0;32mNone\u001b[0m\u001b[0;34m:\u001b[0m\u001b[0;34m\u001b[0m\u001b[0;34m\u001b[0m\u001b[0m\n\u001b[0;32m---> 78\u001b[0;31m             \u001b[0mindex\u001b[0m \u001b[0;34m=\u001b[0m \u001b[0mextract_index\u001b[0m\u001b[0;34m(\u001b[0m\u001b[0marrays\u001b[0m\u001b[0;34m)\u001b[0m\u001b[0;34m\u001b[0m\u001b[0;34m\u001b[0m\u001b[0m\n\u001b[0m\u001b[1;32m     79\u001b[0m         \u001b[0;32melse\u001b[0m\u001b[0;34m:\u001b[0m\u001b[0;34m\u001b[0m\u001b[0;34m\u001b[0m\u001b[0m\n\u001b[1;32m     80\u001b[0m             \u001b[0mindex\u001b[0m \u001b[0;34m=\u001b[0m \u001b[0mensure_index\u001b[0m\u001b[0;34m(\u001b[0m\u001b[0mindex\u001b[0m\u001b[0;34m)\u001b[0m\u001b[0;34m\u001b[0m\u001b[0;34m\u001b[0m\u001b[0m\n",
      "\u001b[0;32m~/anaconda3/envs/kaggle/lib/python3.6/site-packages/pandas/core/internals/construction.py\u001b[0m in \u001b[0;36mextract_index\u001b[0;34m(data)\u001b[0m\n\u001b[1;32m    395\u001b[0m             \u001b[0mlengths\u001b[0m \u001b[0;34m=\u001b[0m \u001b[0mlist\u001b[0m\u001b[0;34m(\u001b[0m\u001b[0mset\u001b[0m\u001b[0;34m(\u001b[0m\u001b[0mraw_lengths\u001b[0m\u001b[0;34m)\u001b[0m\u001b[0;34m)\u001b[0m\u001b[0;34m\u001b[0m\u001b[0;34m\u001b[0m\u001b[0m\n\u001b[1;32m    396\u001b[0m             \u001b[0;32mif\u001b[0m \u001b[0mlen\u001b[0m\u001b[0;34m(\u001b[0m\u001b[0mlengths\u001b[0m\u001b[0;34m)\u001b[0m \u001b[0;34m>\u001b[0m \u001b[0;36m1\u001b[0m\u001b[0;34m:\u001b[0m\u001b[0;34m\u001b[0m\u001b[0;34m\u001b[0m\u001b[0m\n\u001b[0;32m--> 397\u001b[0;31m                 \u001b[0;32mraise\u001b[0m \u001b[0mValueError\u001b[0m\u001b[0;34m(\u001b[0m\u001b[0;34m\"arrays must all be same length\"\u001b[0m\u001b[0;34m)\u001b[0m\u001b[0;34m\u001b[0m\u001b[0;34m\u001b[0m\u001b[0m\n\u001b[0m\u001b[1;32m    398\u001b[0m \u001b[0;34m\u001b[0m\u001b[0m\n\u001b[1;32m    399\u001b[0m             \u001b[0;32mif\u001b[0m \u001b[0mhave_dicts\u001b[0m\u001b[0;34m:\u001b[0m\u001b[0;34m\u001b[0m\u001b[0;34m\u001b[0m\u001b[0m\n",
      "\u001b[0;31mValueError\u001b[0m: arrays must all be same length"
     ]
    }
   ],
   "source": [
    "croped_train = {\"id\": img_ids_train, \"idx\":img_idx_train}\n",
    "df_croped_train = pd.DataFrame(croped_train)\n",
    "#df_train_annotation = pd.DataFrame(train_annotations[\"annotations\"])"
   ]
  },
  {
   "cell_type": "code",
   "execution_count": 57,
   "metadata": {},
   "outputs": [
    {
     "data": {
      "text/html": [
       "<div>\n",
       "<style scoped>\n",
       "    .dataframe tbody tr th:only-of-type {\n",
       "        vertical-align: middle;\n",
       "    }\n",
       "\n",
       "    .dataframe tbody tr th {\n",
       "        vertical-align: top;\n",
       "    }\n",
       "\n",
       "    .dataframe thead th {\n",
       "        text-align: right;\n",
       "    }\n",
       "</style>\n",
       "<table border=\"1\" class=\"dataframe\">\n",
       "  <thead>\n",
       "    <tr style=\"text-align: right;\">\n",
       "      <th></th>\n",
       "      <th>id</th>\n",
       "      <th>idx</th>\n",
       "    </tr>\n",
       "  </thead>\n",
       "  <tbody>\n",
       "    <tr>\n",
       "      <th>0</th>\n",
       "      <td>905a3c8c-21bc-11ea-a13a-137349068a90</td>\n",
       "      <td>1</td>\n",
       "    </tr>\n",
       "    <tr>\n",
       "      <th>1</th>\n",
       "      <td>905a4416-21bc-11ea-a13a-137349068a90</td>\n",
       "      <td>1</td>\n",
       "    </tr>\n",
       "    <tr>\n",
       "      <th>2</th>\n",
       "      <td>905a4416-21bc-11ea-a13a-137349068a90</td>\n",
       "      <td>2</td>\n",
       "    </tr>\n",
       "    <tr>\n",
       "      <th>3</th>\n",
       "      <td>905a4416-21bc-11ea-a13a-137349068a90</td>\n",
       "      <td>3</td>\n",
       "    </tr>\n",
       "    <tr>\n",
       "      <th>4</th>\n",
       "      <td>905a579e-21bc-11ea-a13a-137349068a90</td>\n",
       "      <td>1</td>\n",
       "    </tr>\n",
       "  </tbody>\n",
       "</table>\n",
       "</div>"
      ],
      "text/plain": [
       "                                     id  idx\n",
       "0  905a3c8c-21bc-11ea-a13a-137349068a90    1\n",
       "1  905a4416-21bc-11ea-a13a-137349068a90    1\n",
       "2  905a4416-21bc-11ea-a13a-137349068a90    2\n",
       "3  905a4416-21bc-11ea-a13a-137349068a90    3\n",
       "4  905a579e-21bc-11ea-a13a-137349068a90    1"
      ]
     },
     "execution_count": 57,
     "metadata": {},
     "output_type": "execute_result"
    }
   ],
   "source": [
    "df_croped_train.head()"
   ]
  },
  {
   "cell_type": "code",
   "execution_count": 85,
   "metadata": {},
   "outputs": [],
   "source": [
    "croped_test = {\"id\": img_ids_test, \"idx\":img_idx_test}\n",
    "df_croped_test = pd.DataFrame(croped_test)"
   ]
  },
  {
   "cell_type": "code",
   "execution_count": 86,
   "metadata": {},
   "outputs": [],
   "source": [
    "df_croped_test[\"image_id\"] = df_croped_test[\"id\"] + \"_\" + df_croped_test[\"idx\"].astype(str)\n",
    "df_croped_test[\"category_id\"] = 0"
   ]
  },
  {
   "cell_type": "code",
   "execution_count": 93,
   "metadata": {},
   "outputs": [],
   "source": [
    "df_croped_test = df_croped_test.drop_duplicates()\n"
   ]
  },
  {
   "cell_type": "code",
   "execution_count": 91,
   "metadata": {},
   "outputs": [
    {
     "name": "stdout",
     "output_type": "stream",
     "text": [
      "79348\n"
     ]
    },
    {
     "data": {
      "text/html": [
       "<div>\n",
       "<style scoped>\n",
       "    .dataframe tbody tr th:only-of-type {\n",
       "        vertical-align: middle;\n",
       "    }\n",
       "\n",
       "    .dataframe tbody tr th {\n",
       "        vertical-align: top;\n",
       "    }\n",
       "\n",
       "    .dataframe thead th {\n",
       "        text-align: right;\n",
       "    }\n",
       "</style>\n",
       "<table border=\"1\" class=\"dataframe\">\n",
       "  <thead>\n",
       "    <tr style=\"text-align: right;\">\n",
       "      <th></th>\n",
       "      <th>id</th>\n",
       "      <th>idx</th>\n",
       "      <th>image_id</th>\n",
       "      <th>category_id</th>\n",
       "    </tr>\n",
       "  </thead>\n",
       "  <tbody>\n",
       "    <tr>\n",
       "      <th>0</th>\n",
       "      <td>915879a0-21bc-11ea-a13a-137349068a90</td>\n",
       "      <td>1</td>\n",
       "      <td>915879a0-21bc-11ea-a13a-137349068a90_1</td>\n",
       "      <td>0</td>\n",
       "    </tr>\n",
       "    <tr>\n",
       "      <th>1</th>\n",
       "      <td>91588116-21bc-11ea-a13a-137349068a90</td>\n",
       "      <td>1</td>\n",
       "      <td>91588116-21bc-11ea-a13a-137349068a90_1</td>\n",
       "      <td>0</td>\n",
       "    </tr>\n",
       "    <tr>\n",
       "      <th>2</th>\n",
       "      <td>9158a2f4-21bc-11ea-a13a-137349068a90</td>\n",
       "      <td>1</td>\n",
       "      <td>9158a2f4-21bc-11ea-a13a-137349068a90_1</td>\n",
       "      <td>0</td>\n",
       "    </tr>\n",
       "    <tr>\n",
       "      <th>3</th>\n",
       "      <td>9158aaa6-21bc-11ea-a13a-137349068a90</td>\n",
       "      <td>1</td>\n",
       "      <td>9158aaa6-21bc-11ea-a13a-137349068a90_1</td>\n",
       "      <td>0</td>\n",
       "    </tr>\n",
       "    <tr>\n",
       "      <th>4</th>\n",
       "      <td>9158f1a0-21bc-11ea-a13a-137349068a90</td>\n",
       "      <td>1</td>\n",
       "      <td>9158f1a0-21bc-11ea-a13a-137349068a90_1</td>\n",
       "      <td>0</td>\n",
       "    </tr>\n",
       "  </tbody>\n",
       "</table>\n",
       "</div>"
      ],
      "text/plain": [
       "                                     id  idx  \\\n",
       "0  915879a0-21bc-11ea-a13a-137349068a90    1   \n",
       "1  91588116-21bc-11ea-a13a-137349068a90    1   \n",
       "2  9158a2f4-21bc-11ea-a13a-137349068a90    1   \n",
       "3  9158aaa6-21bc-11ea-a13a-137349068a90    1   \n",
       "4  9158f1a0-21bc-11ea-a13a-137349068a90    1   \n",
       "\n",
       "                                 image_id  category_id  \n",
       "0  915879a0-21bc-11ea-a13a-137349068a90_1            0  \n",
       "1  91588116-21bc-11ea-a13a-137349068a90_1            0  \n",
       "2  9158a2f4-21bc-11ea-a13a-137349068a90_1            0  \n",
       "3  9158aaa6-21bc-11ea-a13a-137349068a90_1            0  \n",
       "4  9158f1a0-21bc-11ea-a13a-137349068a90_1            0  "
      ]
     },
     "execution_count": 91,
     "metadata": {},
     "output_type": "execute_result"
    }
   ],
   "source": [
    "print(len(df_croped_test))\n",
    "df_croped_test.head()\n",
    "#path,image_id,idx,filename,confidence"
   ]
  }
 ],
 "metadata": {
  "kernelspec": {
   "display_name": "Python 3",
   "language": "python",
   "name": "python3"
  },
  "language_info": {
   "codemirror_mode": {
    "name": "ipython",
    "version": 3
   },
   "file_extension": ".py",
   "mimetype": "text/x-python",
   "name": "python",
   "nbconvert_exporter": "python",
   "pygments_lexer": "ipython3",
   "version": "3.6.13"
  }
 },
 "nbformat": 4,
 "nbformat_minor": 4
}
